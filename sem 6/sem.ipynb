{
 "cells": [
  {
   "cell_type": "markdown",
   "id": "59eb8aea",
   "metadata": {},
   "source": [
    "### Задание 1\n",
    "Пусть перед нами стоит задача моделирования развития спортивных навыков кого-либо (фитнес приложение)\n",
    "\n",
    "Давайте опишем необходимые классы, которые помогут решать эту задачу."
   ]
  },
  {
   "cell_type": "code",
   "execution_count": 16,
   "id": "8a4b25ba",
   "metadata": {},
   "outputs": [
    {
     "name": "stdout",
     "output_type": "stream",
     "text": [
      "Имя пользователя: Катя\n",
      "Возраст пользователя: 20\n",
      "Вес пользователя: 47\n",
      "Рост пользователя: 175\n",
      "Тренировка: Силовая Упражнение 1 60\n",
      "Достижения: Достижение Выполнение n упражнений подряд 1\n"
     ]
    }
   ],
   "source": [
    "class User:\n",
    "    def __init__(self, name, age, weight, height):\n",
    "        self.name = name\n",
    "        self.age = age\n",
    "        self.weight = weight\n",
    "        self.height = height\n",
    "\n",
    "class Training:\n",
    "    def __init__(self, name, exercizes_type, duration):\n",
    "        self.name = name\n",
    "        self.exercizes_type = exercizes_type\n",
    "        self.duration = duration\n",
    "\n",
    "class Achievement:\n",
    "    def __init__(self, name, description, value):\n",
    "        self.name = name\n",
    "        self.description = description\n",
    "        self.value = value\n",
    "        \n",
    "user = User(\"Катя\", 20, 47, 175)\n",
    "training = Training(\"Силовая\", \"Упражнение 1\", 60)\n",
    "achievement = Achievement(\"Достижение\", \"Выполнение n упражнений подряд\", 1)\n",
    "        \n",
    "print(\"Имя пользователя:\", user.name)\n",
    "print(\"Возраст пользователя:\", user.age)\n",
    "print(\"Вес пользователя:\", user.weight)\n",
    "print(\"Рост пользователя:\", user.height)\n",
    "print(\"Тренировка:\", training.name, training.exercizes_type, training.duration)\n",
    "print(\"Достижения:\", achievement.name, achievement.description, achievement.value)"
   ]
  },
  {
   "cell_type": "markdown",
   "id": "648a6f2d",
   "metadata": {},
   "source": [
    "### Задание 2\n",
    "Требуется написать класс-строку: такой, чтобы его инстансы можно было сравнивать между собой. При этом, приоритетом для того чтобы считать строку большей, будет считаться длина строки, во вторую очерерь будет сравниваться лексикографическая составляющая. В остальном класс должен повторять возможности обычных строк"
   ]
  },
  {
   "cell_type": "code",
   "execution_count": 1,
   "id": "e2f29030",
   "metadata": {},
   "outputs": [
    {
     "data": {
      "text/plain": [
       "True"
      ]
     },
     "execution_count": 1,
     "metadata": {},
     "output_type": "execute_result"
    }
   ],
   "source": [
    "'ac' > 'ab'  # лексикографическое сравнение "
   ]
  },
  {
   "cell_type": "code",
   "execution_count": 2,
   "id": "500530da",
   "metadata": {},
   "outputs": [
    {
     "data": {
      "text/plain": [
       "True"
      ]
     },
     "execution_count": 2,
     "metadata": {},
     "output_type": "execute_result"
    }
   ],
   "source": [
    "'ac' > 'aba'  # сравнение по длинам которое нас не устраивает "
   ]
  },
  {
   "cell_type": "code",
   "execution_count": 3,
   "id": "4eceef43",
   "metadata": {},
   "outputs": [
    {
     "data": {
      "text/plain": [
       "'AC'"
      ]
     },
     "execution_count": 3,
     "metadata": {},
     "output_type": "execute_result"
    }
   ],
   "source": [
    "'ac'.upper()"
   ]
  },
  {
   "cell_type": "code",
   "execution_count": 14,
   "id": "5d2e3d7d",
   "metadata": {},
   "outputs": [
    {
     "data": {
      "text/plain": [
       "True"
      ]
     },
     "execution_count": 14,
     "metadata": {},
     "output_type": "execute_result"
    }
   ],
   "source": [
    "class Str(str):\n",
    "    \n",
    "    def __lt__(self, other):\n",
    "        if len(self) < len(other):\n",
    "            return True\n",
    "        elif len(self) > len(other):\n",
    "            return False\n",
    "        return super().__lt__(other)\n",
    "    \n",
    "    def __gt__(self, other):\n",
    "        if len(self) > len(other):\n",
    "            return True\n",
    "        elif len(self) < len(other):\n",
    "            return False\n",
    "        return super().__gt__(other)\n",
    "    \n",
    "Str('ac') > Str('ab')"
   ]
  },
  {
   "cell_type": "code",
   "execution_count": 6,
   "id": "349e5b6c",
   "metadata": {},
   "outputs": [
    {
     "data": {
      "text/plain": [
       "False"
      ]
     },
     "execution_count": 6,
     "metadata": {},
     "output_type": "execute_result"
    }
   ],
   "source": [
    "Str('ac') < Str('a')"
   ]
  },
  {
   "cell_type": "code",
   "execution_count": 13,
   "id": "2d0c7ad7",
   "metadata": {},
   "outputs": [
    {
     "data": {
      "text/plain": [
       "False"
      ]
     },
     "execution_count": 13,
     "metadata": {},
     "output_type": "execute_result"
    }
   ],
   "source": [
    "Str('ac') > Str('aba')"
   ]
  },
  {
   "cell_type": "code",
   "execution_count": 7,
   "id": "1b3bbeda",
   "metadata": {},
   "outputs": [
    {
     "data": {
      "text/plain": [
       "True"
      ]
     },
     "execution_count": 7,
     "metadata": {},
     "output_type": "execute_result"
    }
   ],
   "source": [
    "Str('ac') > Str('a')"
   ]
  },
  {
   "cell_type": "code",
   "execution_count": 7,
   "id": "5378f331",
   "metadata": {},
   "outputs": [
    {
     "data": {
      "text/plain": [
       "True"
      ]
     },
     "execution_count": 7,
     "metadata": {},
     "output_type": "execute_result"
    }
   ],
   "source": [
    "Str('ac') < Str('aba')"
   ]
  },
  {
   "cell_type": "code",
   "execution_count": 9,
   "id": "6e8b16db",
   "metadata": {},
   "outputs": [
    {
     "data": {
      "text/plain": [
       "False"
      ]
     },
     "execution_count": 9,
     "metadata": {},
     "output_type": "execute_result"
    }
   ],
   "source": [
    "Str('ac') > Str('aba')"
   ]
  },
  {
   "cell_type": "code",
   "execution_count": 8,
   "id": "98485ded",
   "metadata": {},
   "outputs": [
    {
     "data": {
      "text/plain": [
       "'AC'"
      ]
     },
     "execution_count": 8,
     "metadata": {},
     "output_type": "execute_result"
    }
   ],
   "source": [
    "Str('ac').upper()"
   ]
  },
  {
   "cell_type": "code",
   "execution_count": 10,
   "id": "e3051c40",
   "metadata": {},
   "outputs": [
    {
     "data": {
      "text/plain": [
       "True"
      ]
     },
     "execution_count": 10,
     "metadata": {},
     "output_type": "execute_result"
    }
   ],
   "source": [
    "Str('ac') >= Str('aba')  # обратите внимание! \n",
    "# чтобы работали и подобные операторы (>=, <=), нужно переопределить __lte__, __gte__"
   ]
  },
  {
   "cell_type": "markdown",
   "id": "b074b334",
   "metadata": {},
   "source": [
    "### Задание 3\n",
    "Класс - банковский вклад. \n",
    "Составляющие:\n",
    "- процент\n",
    "- сумма\n",
    "- период\n",
    "- каптализация\n",
    "- методы управления"
   ]
  },
  {
   "cell_type": "code",
   "execution_count": 11,
   "id": "9c4cd1c4",
   "metadata": {},
   "outputs": [],
   "source": [
    "# задача не так проста, как может показаться. Для начала, необходимо понять предметную область...\n",
    "# 1) банковские вклады могут быть с возможностью пополнения / без возможности пополнения\n",
    "# 2) с автоматическим продлением / без\n",
    "# 3) с возможностью частичного снятия денежных средств / без (можно закрыть только весь вклад, при этом проценты не будут начислены)\n",
    "# 4) капитализация также будет являться логическим признаком, она может быть / её может не быть"
   ]
  },
  {
   "cell_type": "markdown",
   "id": "3e0ce515",
   "metadata": {},
   "source": [
    "### Задание 4\n",
    "Класс-контейнер, который будет логировать (в консоль) события доступа к какому-либо объекту. Для логирования можно использовать `print()`.\n",
    "\n",
    "Лог должен отличаться для операций чтения, записи (модификации), удаления, создания (CRUD)"
   ]
  },
  {
   "cell_type": "code",
   "execution_count": 15,
   "id": "1b256269",
   "metadata": {},
   "outputs": [
    {
     "name": "stdout",
     "output_type": "stream",
     "text": [
      ">> write obj\n",
      ">> read obj\n"
     ]
    },
    {
     "data": {
      "text/plain": [
       "'ab'"
      ]
     },
     "execution_count": 15,
     "metadata": {},
     "output_type": "execute_result"
    }
   ],
   "source": [
    "class Logger:\n",
    "    def __init__(self, obj):\n",
    "        self.obj = obj\n",
    "        \n",
    "    def __getattribute__(self, name):\n",
    "        print(f'>> read {name}')\n",
    "        return super().__getattribute__(name)\n",
    "    \n",
    "    def __setattr__(self, name, value):\n",
    "        print(f'>> write {name}')\n",
    "        return super().__setattr__(name, value)\n",
    "    \n",
    "    def __delattr__(self, name):\n",
    "        print(f'>> del {name}')\n",
    "        return super().__delattr__(name)\n",
    "        \n",
    "lo = Logger('a')\n",
    "lo.obj + 'b'"
   ]
  },
  {
   "cell_type": "code",
   "execution_count": 13,
   "id": "3075ba52",
   "metadata": {},
   "outputs": [
    {
     "name": "stdout",
     "output_type": "stream",
     "text": [
      ">> read obj\n"
     ]
    },
    {
     "data": {
      "text/plain": [
       "True"
      ]
     },
     "execution_count": 13,
     "metadata": {},
     "output_type": "execute_result"
    }
   ],
   "source": [
    "lo.obj < 'b'"
   ]
  },
  {
   "cell_type": "code",
   "execution_count": 14,
   "id": "897f2024",
   "metadata": {},
   "outputs": [
    {
     "name": "stdout",
     "output_type": "stream",
     "text": [
      ">> write obj\n",
      ">> read obj\n"
     ]
    },
    {
     "data": {
      "text/plain": [
       "3"
      ]
     },
     "execution_count": 14,
     "metadata": {},
     "output_type": "execute_result"
    }
   ],
   "source": [
    "lo = Logger(1)\n",
    "lo.obj + 2"
   ]
  },
  {
   "cell_type": "code",
   "execution_count": 15,
   "id": "c8d58035",
   "metadata": {},
   "outputs": [
    {
     "name": "stdout",
     "output_type": "stream",
     "text": [
      ">> read obj\n",
      ">> write obj\n"
     ]
    }
   ],
   "source": [
    "lo.obj += 2"
   ]
  },
  {
   "cell_type": "code",
   "execution_count": 16,
   "id": "27ffb515",
   "metadata": {},
   "outputs": [
    {
     "name": "stdout",
     "output_type": "stream",
     "text": [
      ">> read obj\n"
     ]
    },
    {
     "data": {
      "text/plain": [
       "3"
      ]
     },
     "execution_count": 16,
     "metadata": {},
     "output_type": "execute_result"
    }
   ],
   "source": [
    "lo.obj"
   ]
  },
  {
   "cell_type": "code",
   "execution_count": 17,
   "id": "b874652e",
   "metadata": {},
   "outputs": [
    {
     "name": "stdout",
     "output_type": "stream",
     "text": [
      ">> read obj\n"
     ]
    },
    {
     "data": {
      "text/plain": [
       "5"
      ]
     },
     "execution_count": 17,
     "metadata": {},
     "output_type": "execute_result"
    }
   ],
   "source": [
    "lo.obj + 2"
   ]
  },
  {
   "cell_type": "code",
   "execution_count": 18,
   "id": "9a4f6035",
   "metadata": {},
   "outputs": [
    {
     "name": "stdout",
     "output_type": "stream",
     "text": [
      ">> del obj\n"
     ]
    }
   ],
   "source": [
    "del lo.obj"
   ]
  }
 ],
 "metadata": {
  "kernelspec": {
   "display_name": "Python 3 (ipykernel)",
   "language": "python",
   "name": "python3"
  },
  "language_info": {
   "codemirror_mode": {
    "name": "ipython",
    "version": 3
   },
   "file_extension": ".py",
   "mimetype": "text/x-python",
   "name": "python",
   "nbconvert_exporter": "python",
   "pygments_lexer": "ipython3",
   "version": "3.10.9"
  }
 },
 "nbformat": 4,
 "nbformat_minor": 5
}
