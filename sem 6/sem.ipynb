{
 "cells": [
  {
   "cell_type": "markdown",
   "id": "59eb8aea",
   "metadata": {},
   "source": [
    "### Задание 1\n",
    "Пусть перед нами стоит задача моделирования развития спортивных навыков кого-либо (фитнес приложение)\n",
    "\n",
    "Давайте опишем необходимые классы, которые помогут решать эту задачу."
   ]
  },
  {
   "cell_type": "code",
   "execution_count": 16,
   "id": "8a4b25ba",
   "metadata": {},
   "outputs": [
    {
     "name": "stdout",
     "output_type": "stream",
     "text": [
      "Имя пользователя: Катя\n",
      "Возраст пользователя: 20\n",
      "Вес пользователя: 47\n",
      "Рост пользователя: 175\n",
      "Тренировка: Силовая Упражнение 1 60\n",
      "Достижения: Достижение Выполнение n упражнений подряд 1\n"
     ]
    }
   ],
   "source": [
    "class User:\n",
    "    def __init__(self, name, age, weight, height):\n",
    "        self.name = name\n",
    "        self.age = age\n",
    "        self.weight = weight\n",
    "        self.height = height\n",
    "\n",
    "class Training:\n",
    "    def __init__(self, name, exercizes_type, duration):\n",
    "        self.name = name\n",
    "        self.exercizes_type = exercizes_type\n",
    "        self.duration = duration\n",
    "\n",
    "class Achievement:\n",
    "    def __init__(self, name, description, value):\n",
    "        self.name = name\n",
    "        self.description = description\n",
    "        self.value = value\n",
    "        \n",
    "user = User(\"Катя\", 20, 47, 175)\n",
    "training = Training(\"Силовая\", \"Упражнение 1\", 60)\n",
    "achievement = Achievement(\"Достижение\", \"Выполнение n упражнений подряд\", 1)\n",
    "        \n",
    "print(\"Имя пользователя:\", user.name)\n",
    "print(\"Возраст пользователя:\", user.age)\n",
    "print(\"Вес пользователя:\", user.weight)\n",
    "print(\"Рост пользователя:\", user.height)\n",
    "print(\"Тренировка:\", training.name, training.exercizes_type, training.duration)\n",
    "print(\"Достижения:\", achievement.name, achievement.description, achievement.value)"
   ]
  },
  {
   "cell_type": "markdown",
   "id": "648a6f2d",
   "metadata": {},
   "source": [
    "### Задание 2\n",
    "Требуется написать класс-строку: такой, чтобы его инстансы можно было сравнивать между собой. При этом, приоритетом для того чтобы считать строку большей, будет считаться длина строки, во вторую очерерь будет сравниваться лексикографическая составляющая. В остальном класс должен повторять возможности обычных строк"
   ]
  },
  {
   "cell_type": "code",
   "execution_count": 1,
   "id": "e2f29030",
   "metadata": {},
   "outputs": [
    {
     "data": {
      "text/plain": [
       "True"
      ]
     },
     "execution_count": 1,
     "metadata": {},
     "output_type": "execute_result"
    }
   ],
   "source": [
    "'ac' > 'ab'  # лексикографическое сравнение "
   ]
  },
  {
   "cell_type": "code",
   "execution_count": 2,
   "id": "500530da",
   "metadata": {},
   "outputs": [
    {
     "data": {
      "text/plain": [
       "True"
      ]
     },
     "execution_count": 2,
     "metadata": {},
     "output_type": "execute_result"
    }
   ],
   "source": [
    "'ac' > 'aba'  # сравнение по длинам которое нас не устраивает "
   ]
  },
  {
   "cell_type": "code",
   "execution_count": 3,
   "id": "4eceef43",
   "metadata": {},
   "outputs": [
    {
     "data": {
      "text/plain": [
       "'AC'"
      ]
     },
     "execution_count": 3,
     "metadata": {},
     "output_type": "execute_result"
    }
   ],
   "source": [
    "'ac'.upper()"
   ]
  },
  {
   "cell_type": "code",
   "execution_count": 14,
   "id": "5d2e3d7d",
   "metadata": {},
   "outputs": [
    {
     "data": {
      "text/plain": [
       "True"
      ]
     },
     "execution_count": 14,
     "metadata": {},
     "output_type": "execute_result"
    }
   ],
   "source": [
    "class Str(str):\n",
    "    \n",
    "    def __lt__(self, other):\n",
    "        if len(self) < len(other):\n",
    "            return True\n",
    "        elif len(self) > len(other):\n",
    "            return False\n",
    "        return super().__lt__(other)\n",
    "    \n",
    "    def __gt__(self, other):\n",
    "        if len(self) > len(other):\n",
    "            return True\n",
    "        elif len(self) < len(other):\n",
    "            return False\n",
    "        return super().__gt__(other)\n",
    "    \n",
    "Str('ac') > Str('ab')"
   ]
  },
  {
   "cell_type": "code",
   "execution_count": 6,
   "id": "349e5b6c",
   "metadata": {},
   "outputs": [
    {
     "data": {
      "text/plain": [
       "False"
      ]
     },
     "execution_count": 6,
     "metadata": {},
     "output_type": "execute_result"
    }
   ],
   "source": [
    "Str('ac') < Str('a')"
   ]
  },
  {
   "cell_type": "code",
   "execution_count": 13,
   "id": "2d0c7ad7",
   "metadata": {},
   "outputs": [
    {
     "data": {
      "text/plain": [
       "False"
      ]
     },
     "execution_count": 13,
     "metadata": {},
     "output_type": "execute_result"
    }
   ],
   "source": [
    "Str('ac') > Str('aba')"
   ]
  },
  {
   "cell_type": "code",
   "execution_count": 7,
   "id": "1b3bbeda",
   "metadata": {},
   "outputs": [
    {
     "data": {
      "text/plain": [
       "True"
      ]
     },
     "execution_count": 7,
     "metadata": {},
     "output_type": "execute_result"
    }
   ],
   "source": [
    "Str('ac') > Str('a')"
   ]
  },
  {
   "cell_type": "code",
   "execution_count": 7,
   "id": "5378f331",
   "metadata": {},
   "outputs": [
    {
     "data": {
      "text/plain": [
       "True"
      ]
     },
     "execution_count": 7,
     "metadata": {},
     "output_type": "execute_result"
    }
   ],
   "source": [
    "Str('ac') < Str('aba')"
   ]
  },
  {
   "cell_type": "code",
   "execution_count": 9,
   "id": "6e8b16db",
   "metadata": {},
   "outputs": [
    {
     "data": {
      "text/plain": [
       "False"
      ]
     },
     "execution_count": 9,
     "metadata": {},
     "output_type": "execute_result"
    }
   ],
   "source": [
    "Str('ac') > Str('aba')"
   ]
  },
  {
   "cell_type": "code",
   "execution_count": 8,
   "id": "98485ded",
   "metadata": {},
   "outputs": [
    {
     "data": {
      "text/plain": [
       "'AC'"
      ]
     },
     "execution_count": 8,
     "metadata": {},
     "output_type": "execute_result"
    }
   ],
   "source": [
    "Str('ac').upper()"
   ]
  },
  {
   "cell_type": "code",
   "execution_count": 10,
   "id": "e3051c40",
   "metadata": {},
   "outputs": [
    {
     "data": {
      "text/plain": [
       "True"
      ]
     },
     "execution_count": 10,
     "metadata": {},
     "output_type": "execute_result"
    }
   ],
   "source": [
    "Str('ac') >= Str('aba')  # обратите внимание! \n",
    "# чтобы работали и подобные операторы (>=, <=), нужно переопределить __lte__, __gte__"
   ]
  },
  {
   "cell_type": "markdown",
   "id": "b074b334",
   "metadata": {},
   "source": [
    "### Задание 3\n",
    "Класс - банковский вклад. \n",
    "Составляющие:\n",
    "- процент\n",
    "- сумма\n",
    "- период\n",
    "- каптализация\n",
    "- методы управления"
   ]
  },
  {
   "cell_type": "code",
   "execution_count": 11,
   "id": "9c4cd1c4",
   "metadata": {},
   "outputs": [],
   "source": [
    "# задача не так проста, как может показаться. Для начала, необходимо понять предметную область...\n",
    "# 1) банковские вклады могут быть с возможностью пополнения / без возможности пополнения\n",
    "# 2) с автоматическим продлением / без\n",
    "# 3) с возможностью частичного снятия денежных средств / без (можно закрыть только весь вклад, при этом проценты не будут начислены)\n",
    "# 4) капитализация также будет являться логическим признаком, она может быть / её может не быть"
   ]
  },
  {
   "cell_type": "code",
   "execution_count": 72,
   "id": "be408554",
   "metadata": {},
   "outputs": [
    {
     "name": "stdout",
     "output_type": "stream",
     "text": [
      "Вклад с капитализацией: 645120.0000000001\n",
      "Вклад без капитализации: 24012\n",
      "Вклад с капитализацией и с процентами: 722534.4000000001\n",
      "Вклад без капитализации и с процентами: 26892.0\n",
      "Период вклада: 12\n",
      "Текущий баланс: 18440.0\n",
      "Текущий баланс: 10440.0\n",
      "Период вклада после уменьшения: 11\n",
      "Период вклада после автоматического продления: 12\n",
      "Снято: 10440.0\n",
      "Остаток на счете: 0.0\n",
      "Вклад закрыт\n",
      "Вклад закрыт. Снятие или пополнение невозможно.\n"
     ]
    }
   ],
   "source": [
    "class Deposit:\n",
    "    def __init__(self, percent, amount, capitalization, methods, period):\n",
    "        self.percent = percent / 100\n",
    "        self.amount = amount\n",
    "        self.capitalization = capitalization\n",
    "        self.methods = methods\n",
    "        self.period = period\n",
    "        self.closed = False\n",
    "        \n",
    "    def calculate_capitalization(self):\n",
    "        if self.capitalization:\n",
    "            amount = self.amount*(1+self.percent)*(4*self.period) # формула рассчета капитализации кварталами\n",
    "            percent = amount - self.amount\n",
    "        else:\n",
    "            percent = self.amount + self.period # без капитализации\n",
    "        return self.amount + percent\n",
    "\n",
    "    def apply_percents(self):\n",
    "        if self.capitalization:\n",
    "            self.amount *= (1 + self.percent)\n",
    "        else:\n",
    "            percent = self.amount * self.percent\n",
    "            self.amount += percent\n",
    "            \n",
    "    def get_period(self):\n",
    "        return self.period\n",
    "    \n",
    "    def repl_width(self, amount):\n",
    "        if amount > 0:\n",
    "            self.amount += amount\n",
    "        elif (amount < 0) and (self.amount + amount >= 0):\n",
    "            self.amount += amount\n",
    "        print(\"Текущий баланс:\", self.amount)\n",
    "        \n",
    "    def auto_renewal(self):\n",
    "        if self.amount >= 0:\n",
    "            self.period += 1\n",
    "            \n",
    "    def decrease_period(self): # чтобы период по вкладу уменьшался, а достигая нуля обращался к функции автопродления\n",
    "        self.period -= 1\n",
    "        if self.period <= 0:\n",
    "            self.period = 0\n",
    "            self.auto_renewal()\n",
    "            \n",
    "    def close_withdraw(self, amount=None):\n",
    "        if self.closed:\n",
    "            print(\"Вклад закрыт. Снятие или пополнение невозможно.\")\n",
    "            return\n",
    "        if amount is None:\n",
    "            amount = self.amount\n",
    "        elif amount > 0:\n",
    "            self.amount -= amount\n",
    "            print(\"Снято:\", amount)\n",
    "            print(\"Остаток на счете:\", self.amount)\n",
    "        elif amount >= self.amount:\n",
    "            print(\"Вклад закрыт\")\n",
    "            self.amount = 0\n",
    "            self.closed = True\n",
    "            pass\n",
    "\n",
    "deposit1 = Deposit(12, 12000, True, {}, 12)\n",
    "deposit2 = Deposit(12, 12000, False, {}, 12)\n",
    "\n",
    "print(\"Вклад с капитализацией:\", deposit1.calculate_capitalization())\n",
    "print(\"Вклад без капитализации:\", deposit2.calculate_capitalization())\n",
    "\n",
    "deposit1.apply_percents()\n",
    "deposit2.apply_percents()\n",
    "\n",
    "print(\"Вклад с капитализацией и с процентами:\", deposit1.calculate_capitalization())\n",
    "print(\"Вклад без капитализации и с процентами:\", deposit2.calculate_capitalization())\n",
    "\n",
    "print(\"Период вклада:\", deposit1.get_period())\n",
    "\n",
    "deposit1.repl_width(5000)\n",
    "deposit2.repl_width(-3000)\n",
    "\n",
    "deposit1.decrease_period()\n",
    "\n",
    "print(\"Период вклада после уменьшения:\", deposit1.get_period())\n",
    "\n",
    "deposit1.auto_renewal()\n",
    "\n",
    "print(\"Период вклада после автоматического продления:\", deposit1.get_period())\n",
    "\n",
    "deposit2.close_withdraw(10440.0) # снятие денег\n",
    "deposit2.close_withdraw(0) # закрытие счета\n",
    "deposit2.close_withdraw(1000) # проверка для снятия или пополнения закрытого вклада"
   ]
  },
  {
   "cell_type": "markdown",
   "id": "3e0ce515",
   "metadata": {},
   "source": [
    "### Задание 4\n",
    "Класс-контейнер, который будет логировать (в консоль) события доступа к какому-либо объекту. Для логирования можно использовать `print()`.\n",
    "\n",
    "Лог должен отличаться для операций чтения, записи (модификации), удаления, создания (CRUD)"
   ]
  },
  {
   "cell_type": "code",
   "execution_count": 15,
   "id": "1b256269",
   "metadata": {},
   "outputs": [
    {
     "name": "stdout",
     "output_type": "stream",
     "text": [
      ">> write obj\n",
      ">> read obj\n"
     ]
    },
    {
     "data": {
      "text/plain": [
       "'ab'"
      ]
     },
     "execution_count": 15,
     "metadata": {},
     "output_type": "execute_result"
    }
   ],
   "source": [
    "class Logger:\n",
    "    def __init__(self, obj):\n",
    "        self.obj = obj\n",
    "        \n",
    "    def __getattribute__(self, name):\n",
    "        print(f'>> read {name}')\n",
    "        return super().__getattribute__(name)\n",
    "    \n",
    "    def __setattr__(self, name, value):\n",
    "        print(f'>> write {name}')\n",
    "        return super().__setattr__(name, value)\n",
    "    \n",
    "    def __delattr__(self, name):\n",
    "        print(f'>> del {name}')\n",
    "        return super().__delattr__(name)\n",
    "        \n",
    "lo = Logger('a')\n",
    "lo.obj + 'b'"
   ]
  },
  {
   "cell_type": "code",
   "execution_count": 13,
   "id": "3075ba52",
   "metadata": {},
   "outputs": [
    {
     "name": "stdout",
     "output_type": "stream",
     "text": [
      ">> read obj\n"
     ]
    },
    {
     "data": {
      "text/plain": [
       "True"
      ]
     },
     "execution_count": 13,
     "metadata": {},
     "output_type": "execute_result"
    }
   ],
   "source": [
    "lo.obj < 'b'"
   ]
  },
  {
   "cell_type": "code",
   "execution_count": 14,
   "id": "897f2024",
   "metadata": {},
   "outputs": [
    {
     "name": "stdout",
     "output_type": "stream",
     "text": [
      ">> write obj\n",
      ">> read obj\n"
     ]
    },
    {
     "data": {
      "text/plain": [
       "3"
      ]
     },
     "execution_count": 14,
     "metadata": {},
     "output_type": "execute_result"
    }
   ],
   "source": [
    "lo = Logger(1)\n",
    "lo.obj + 2"
   ]
  },
  {
   "cell_type": "code",
   "execution_count": 15,
   "id": "c8d58035",
   "metadata": {},
   "outputs": [
    {
     "name": "stdout",
     "output_type": "stream",
     "text": [
      ">> read obj\n",
      ">> write obj\n"
     ]
    }
   ],
   "source": [
    "lo.obj += 2"
   ]
  },
  {
   "cell_type": "code",
   "execution_count": 16,
   "id": "27ffb515",
   "metadata": {},
   "outputs": [
    {
     "name": "stdout",
     "output_type": "stream",
     "text": [
      ">> read obj\n"
     ]
    },
    {
     "data": {
      "text/plain": [
       "3"
      ]
     },
     "execution_count": 16,
     "metadata": {},
     "output_type": "execute_result"
    }
   ],
   "source": [
    "lo.obj"
   ]
  },
  {
   "cell_type": "code",
   "execution_count": 17,
   "id": "b874652e",
   "metadata": {},
   "outputs": [
    {
     "name": "stdout",
     "output_type": "stream",
     "text": [
      ">> read obj\n"
     ]
    },
    {
     "data": {
      "text/plain": [
       "5"
      ]
     },
     "execution_count": 17,
     "metadata": {},
     "output_type": "execute_result"
    }
   ],
   "source": [
    "lo.obj + 2"
   ]
  },
  {
   "cell_type": "code",
   "execution_count": 18,
   "id": "9a4f6035",
   "metadata": {},
   "outputs": [
    {
     "name": "stdout",
     "output_type": "stream",
     "text": [
      ">> del obj\n"
     ]
    }
   ],
   "source": [
    "del lo.obj"
   ]
  }
 ],
 "metadata": {
  "kernelspec": {
   "display_name": "Python 3 (ipykernel)",
   "language": "python",
   "name": "python3"
  },
  "language_info": {
   "codemirror_mode": {
    "name": "ipython",
    "version": 3
   },
   "file_extension": ".py",
   "mimetype": "text/x-python",
   "name": "python",
   "nbconvert_exporter": "python",
   "pygments_lexer": "ipython3",
   "version": "3.10.9"
  }
 },
 "nbformat": 4,
 "nbformat_minor": 5
}
