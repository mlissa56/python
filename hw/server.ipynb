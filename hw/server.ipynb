{
 "cells": [
  {
   "cell_type": "code",
   "execution_count": null,
   "id": "92d0fd59",
   "metadata": {},
   "outputs": [
    {
     "name": "stdout",
     "output_type": "stream",
     "text": [
      "Chat server started on localhost:55000\n",
      "Client 1 connected\n"
     ]
    }
   ],
   "source": [
    "import socket\n",
    "import threading\n",
    "\n",
    "\n",
    "class ChatServer:\n",
    "    def __init__(self, host, port):\n",
    "        self.host = host\n",
    "        self.port = port\n",
    "        self.server_socket = None\n",
    "        self.connected_clients = []\n",
    "        self.message_buffer = {} # буфер хранит сообщения для id клиентов которые не подкючены\n",
    "\n",
    "    def start(self):\n",
    "        self.server_socket = socket.socket(socket.AF_INET, socket.SOCK_STREAM) # создание сокета\n",
    "        self.server_socket.bind((self.host, self.port)) # связываем сокет с портом, где он будет ожидать сообщения\n",
    "        self.server_socket.listen(5) # указываем сколько может сокет принимать соединений\n",
    "\n",
    "        print(f\"Chat server started on {self.host}:{self.port}\")\n",
    "\n",
    "        while True:\n",
    "            client_socket, client_address = self.server_socket.accept() # начинаем принимать соединения\n",
    "            client_id = client_socket.recv(1024).decode() # принимаем данные от клиента, по 1024 байт и преобразование их в строку с помощью decode\n",
    "            self.connected_clients.append((client_socket, client_id)) # добавляем клиента в список подключенных\n",
    "            \n",
    "            # Проверка наличия сообщений в буфере для данного клиента\n",
    "            if client_id in self.message_buffer:\n",
    "                for message in self.message_buffer[client_id]:\n",
    "                    client_socket.send(message.encode())  # Отправка сообщения из буфера клиенту\n",
    "                del self.message_buffer[client_id]  # Удаление сообщений из буфера после отправки\n",
    "\n",
    "            client_thread = threading.Thread(target=self.handle_client, args=(client_socket, client_id)) # создание потока для обработки клиента (каждый клиент обрабатывается в отдельном потоке, параллельная обработка сообщений)\n",
    "            client_thread.start() # запуск потока\n",
    "\n",
    "    def handle_client(self, client_socket, client_id): # какой клиент (id клиента) подключился\n",
    "        print(f\"Client {client_id} connected\")\n",
    "\n",
    "        while True:\n",
    "            message = client_socket.recv(1024).decode() # сообщение, полученное от клиента\n",
    "\n",
    "            if message == '/quit':\n",
    "                for i in range(len(self.connected_clients)):\n",
    "                    if client_id == self.connected_clients[i]:\n",
    "                        self.connected_clients.pop(i) # удаление клиента из подключенных\n",
    "                break\n",
    "            else:\n",
    "                print(f\"RECEIVED MESSAGE FROM {client_id}\") # подтверждение получения сообщения\n",
    "                recipient_id, content = message.split(':', 1) # разделение сообщения на id получателя и содержимое (разделение позволяет серверу определить, кому отправить сообщение и что именно отправить)\n",
    "                self.send_message_to_client(recipient_id, client_id, content) # отправка сообщения\n",
    "\n",
    "        client_socket.close() # закрытие соединения с клиентом\n",
    "        print(f\"Client {client_id} disconnected\")\n",
    "\n",
    "    def send_message_to_client(self, recipient_id, sender_id, message):\n",
    "        for client_socket, client_id in self.connected_clients: # присваивает значение client_socket, client_id элементам из пары\n",
    "            if client_id == recipient_id: # проверка на соответствие\n",
    "                full_message = f\"New message from '{sender_id}':\\n'{message}'\\n\"\n",
    "                client_socket.send(full_message.encode()) # отправка сообщения клиенту если он доступен\n",
    "                break\n",
    "        else:\n",
    "            # Получатель не найден, добавляем сообщение в буфер\n",
    "            if recipient_id not in self.message_buffer:\n",
    "                self.message_buffer[recipient_id] = []\n",
    "            self.message_buffer[recipient_id].append(f\"New message from '{sender_id}':\\n'{message}'\\n\") #вот тут отправим сообщение клиенту которое улетит в буфер\n",
    "\n",
    "\n",
    "if __name__ == '__main__':\n",
    "    server = ChatServer('localhost', 55000) # подключаемся к серверному сокету, создание экземпляра сервера\n",
    "    server.start()"
   ]
  },
  {
   "cell_type": "code",
   "execution_count": null,
   "id": "27735664",
   "metadata": {},
   "outputs": [],
   "source": []
  }
 ],
 "metadata": {
  "kernelspec": {
   "display_name": "Python 3 (ipykernel)",
   "language": "python",
   "name": "python3"
  },
  "language_info": {
   "codemirror_mode": {
    "name": "ipython",
    "version": 3
   },
   "file_extension": ".py",
   "mimetype": "text/x-python",
   "name": "python",
   "nbconvert_exporter": "python",
   "pygments_lexer": "ipython3",
   "version": "3.10.9"
  }
 },
 "nbformat": 4,
 "nbformat_minor": 5
}
