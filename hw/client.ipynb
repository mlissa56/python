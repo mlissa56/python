{
 "cells": [
  {
   "cell_type": "code",
   "execution_count": null,
   "id": "30b9261c",
   "metadata": {},
   "outputs": [
    {
     "name": "stdout",
     "output_type": "stream",
     "text": [
      "Enter your ID: 1\n",
      "Write command: \n"
     ]
    }
   ],
   "source": [
    "import socket\n",
    "import threading\n",
    "\n",
    "\n",
    "class ChatClient:\n",
    "    def __init__(self, client_id):\n",
    "        self.client_id = client_id\n",
    "        self.host = 'localhost'\n",
    "        self.port = 55000\n",
    "\n",
    "    def connect(self): # устанавливаем соединение с сервером\n",
    "        self.client_socket = socket.socket() # создание объекта сокета\n",
    "        self.client_socket.connect((self.host, self.port)) # устанавливаем соединение\n",
    "        self.client_socket.send(self.client_id.encode()) # id клиента отправляется на сервер\n",
    "\n",
    "        receive_thread = threading.Thread(target=self.receive_messages) # поток\n",
    "        receive_thread.daemon = True # демон\n",
    "        receive_thread.start()\n",
    "\n",
    "        print(\"Write command: \")\n",
    "        while True:\n",
    "            command = input()\n",
    "            if command == '/exit':\n",
    "                break\n",
    "            elif command.startswith('/message'):\n",
    "                recipient_id, message = command.split(' ', 2)[1:] # разделение на id и сообщения\n",
    "                self.send_message(recipient_id, message)\n",
    "            elif command == '/help':\n",
    "                print(\"Command '/message [client_id] [your message]' is sending message\")\n",
    "                print(\"Command '/exit' is exit your dialogue\")\n",
    "            else:\n",
    "                print(\"Wrong command, try again or type '/help'\")\n",
    "\n",
    "        self.client_socket.close()\n",
    "\n",
    "    def send_message(self, recipient_id, message):\n",
    "        full_command = f\"{recipient_id}:{message}\" # отправляем сообщение на сервер id:message\n",
    "        self.client_socket.send(full_command.encode())\n",
    "\n",
    "    def receive_messages(self):\n",
    "        while True:\n",
    "            data = self.client_socket.recv(1024).decode() # получение данных от сервера\n",
    "            if not data: # если нет данных, то соединение считать разорванным\n",
    "                break\n",
    "            print(data)\n",
    "\n",
    "\n",
    "if __name__ == '__main__':\n",
    "    client_id = input(\"Enter your ID: \")\n",
    "    client = ChatClient(client_id) # создание клиента\n",
    "    client.connect() # подключение клиента к серверу"
   ]
  },
  {
   "cell_type": "code",
   "execution_count": null,
   "id": "8e4b88f6",
   "metadata": {},
   "outputs": [],
   "source": []
  }
 ],
 "metadata": {
  "kernelspec": {
   "display_name": "Python 3 (ipykernel)",
   "language": "python",
   "name": "python3"
  },
  "language_info": {
   "codemirror_mode": {
    "name": "ipython",
    "version": 3
   },
   "file_extension": ".py",
   "mimetype": "text/x-python",
   "name": "python",
   "nbconvert_exporter": "python",
   "pygments_lexer": "ipython3",
   "version": "3.10.9"
  }
 },
 "nbformat": 4,
 "nbformat_minor": 5
}
