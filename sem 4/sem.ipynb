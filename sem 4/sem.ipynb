{
 "cells": [
  {
   "cell_type": "markdown",
   "id": "11212a09",
   "metadata": {},
   "source": [
    "## Работа с аргументами\n",
    "\n",
    "Напишите функцию, которая принимает на вход строку-знак (\"+\", \"-\", \"\\*\", \"/\"), базовое число (int, float) и любое число аргументов (int, float) которые будут применяться к базе с определённым знаком. \n",
    "\n",
    "На выход - результат вычисления.\n",
    "\n",
    "Примеры:\n",
    "```\n",
    "('-', 6, 2, 1) -> 3\n",
    "('-', 6, 2, 1, 2) -> 1\n",
    "('-', 6, 10) -> -4\n",
    "```"
   ]
  },
  {
   "cell_type": "code",
   "execution_count": 4,
   "id": "c758345b",
   "metadata": {},
   "outputs": [
    {
     "name": "stdout",
     "output_type": "stream",
     "text": [
      "3\n",
      "1\n",
      "-4\n"
     ]
    }
   ],
   "source": [
    "def func(operator, num, *args):\n",
    "    match operator:\n",
    "        case \"+\":\n",
    "            for i in args:\n",
    "                num += i\n",
    "        case \"-\":\n",
    "            for i in args:\n",
    "                num -= i\n",
    "    return num\n",
    "\n",
    "print(func('-', 6, 2, 1))\n",
    "print(func('-', 6, 2, 1, 2))\n",
    "print(func('-', 6, 10))"
   ]
  },
  {
   "cell_type": "markdown",
   "id": "288100e5",
   "metadata": {},
   "source": [
    "## Декораторы\n",
    "\n",
    "#### 1\n",
    "\n",
    "Напишите декоратор который получает на вход обязательный аргумент. В случае если в декорируемой функции возникнет исключение, функция должна будет вернуть аргумент, получаемый декоратором.\n",
    "\n",
    "Заверните в этот декоратор несколько разных функций, которые будут возбуждать исключения. Вызовите функции с различными аргументами\n",
    "\n",
    "Напишите документацию\n",
    "\n",
    "#### 2\n",
    "\n",
    "Напишите декоратор, который выполняет функцию N раз и выводит общее время выполнения.\n",
    "\n",
    "Для замера времени можно использовать функцию `time()` из модуля `time`\n",
    "```python\n",
    "from time import time\n",
    "\n",
    "print(time())\n",
    "```\n",
    "\n",
    "Напишите документацию"
   ]
  },
  {
   "cell_type": "code",
   "execution_count": 8,
   "id": "06097f04",
   "metadata": {},
   "outputs": [
    {
     "name": "stdout",
     "output_type": "stream",
     "text": [
      "1.0\n",
      "-1\n"
     ]
    }
   ],
   "source": [
    "from functools import wraps\n",
    "\n",
    "def unexcept(default_value):\n",
    "    def wrapper(fun):\n",
    "        @wraps(fun)\n",
    "        def wrapped(*args, **kwargs):\n",
    "            try:\n",
    "                res = fun(*args, **kwargs)\n",
    "            except:\n",
    "                res = default_value\n",
    "            return res\n",
    "        return wrapped\n",
    "    return wrapper\n",
    "\n",
    "@unexcept(default_value=-1)\n",
    "def div(a, b):\n",
    "    return a / b\n",
    "\n",
    "@unexcept(default_value=1000)\n",
    "def plus(a, b):\n",
    "    return a + b\n",
    "\n",
    "print(div(1, 1))\n",
    "print(div(1, 0))"
   ]
  },
  {
   "cell_type": "code",
   "execution_count": 9,
   "id": "b1d900fa",
   "metadata": {},
   "outputs": [
    {
     "name": "stdout",
     "output_type": "stream",
     "text": [
      "Help on function div in module __main__:\n",
      "\n",
      "div(a, b)\n",
      "\n"
     ]
    }
   ],
   "source": [
    "help(div) # документация"
   ]
  },
  {
   "cell_type": "code",
   "execution_count": 53,
   "id": "56683328",
   "metadata": {},
   "outputs": [
    {
     "name": "stdout",
     "output_type": "stream",
     "text": [
      "Help on function unexcept in module __main__:\n",
      "\n",
      "unexcept(n)\n",
      "\n",
      "Help on function wraps in module functools:\n",
      "\n",
      "wraps(wrapped, assigned=('__module__', '__name__', '__qualname__', '__doc__', '__annotations__'), updated=('__dict__',))\n",
      "    Decorator factory to apply update_wrapper() to a wrapper function\n",
      "    \n",
      "    Returns a decorator that invokes update_wrapper() with the decorated\n",
      "    function as the wrapper argument and the arguments to wraps() as the\n",
      "    remaining arguments. Default arguments are as for update_wrapper().\n",
      "    This is a convenience function to simplify applying partial() to\n",
      "    update_wrapper().\n",
      "\n"
     ]
    }
   ],
   "source": [
    "help(unexcept)\n",
    "help(wraps)"
   ]
  },
  {
   "cell_type": "code",
   "execution_count": 45,
   "id": "19a72808",
   "metadata": {},
   "outputs": [
    {
     "name": "stdout",
     "output_type": "stream",
     "text": [
      "0.0010755062103271484\n"
     ]
    },
    {
     "data": {
      "text/plain": [
       "3"
      ]
     },
     "execution_count": 45,
     "metadata": {},
     "output_type": "execute_result"
    }
   ],
   "source": [
    "import time\n",
    "from functools import wraps\n",
    "\n",
    "def unexcept(n):\n",
    "    def decorator(fun):\n",
    "        @wraps(fun)\n",
    "        def wrapped(*args, **kwargs):\n",
    "            t = time.time()\n",
    "            for i in range(n):\n",
    "                res = fun(*args, **kwargs)\n",
    "            print(time.time() - t)\n",
    "            return res\n",
    "        return wrapped\n",
    "    return decorator\n",
    "\n",
    "@unexcept(n=10000)\n",
    "def summ(a, b):\n",
    "    return a + b\n",
    "\n",
    "summ(1, 2)"
   ]
  },
  {
   "cell_type": "code",
   "execution_count": 47,
   "id": "a96a07a7",
   "metadata": {},
   "outputs": [
    {
     "name": "stdout",
     "output_type": "stream",
     "text": [
      "Help on function summ in module __main__:\n",
      "\n",
      "summ(a, b)\n",
      "\n"
     ]
    }
   ],
   "source": [
    "help(summ)"
   ]
  },
  {
   "cell_type": "code",
   "execution_count": 52,
   "id": "9b767c5f",
   "metadata": {},
   "outputs": [
    {
     "name": "stdout",
     "output_type": "stream",
     "text": [
      "Help on function unexcept in module __main__:\n",
      "\n",
      "unexcept(n)\n",
      "\n",
      "Help on function wraps in module functools:\n",
      "\n",
      "wraps(wrapped, assigned=('__module__', '__name__', '__qualname__', '__doc__', '__annotations__'), updated=('__dict__',))\n",
      "    Decorator factory to apply update_wrapper() to a wrapper function\n",
      "    \n",
      "    Returns a decorator that invokes update_wrapper() with the decorated\n",
      "    function as the wrapper argument and the arguments to wraps() as the\n",
      "    remaining arguments. Default arguments are as for update_wrapper().\n",
      "    This is a convenience function to simplify applying partial() to\n",
      "    update_wrapper().\n",
      "\n"
     ]
    }
   ],
   "source": [
    "help(unexcept)\n",
    "help(wraps)"
   ]
  },
  {
   "cell_type": "markdown",
   "id": "a5b94ba7",
   "metadata": {},
   "source": [
    "## Бебаг\n",
    "\n",
    "Дан диапазон портов min и max. Также есть список уже занятых портов busy. Нужно написать функцию, возвращающую все диапазоны свободных портов внутри min и max.\n",
    "\n",
    "```\n",
    "free_ports(30000, 32000, [30100, 30200]) -> [[30000, 30099], [30101, 30199], [30201, 32000]]\n",
    "free_ports(30100, 30200, [30100, 30200]) -> [[30101, 30199]]\n",
    "free_ports(30000, 32000, [100, 30100, 30200]) -> [[30000, 30099], [30101, 30199], [30201, 32000]]\n",
    "free_ports(30000, 32000, [32100]) -> [[30000, 32000]]\n",
    "```"
   ]
  },
  {
   "cell_type": "code",
   "execution_count": 62,
   "id": "115dd10e",
   "metadata": {},
   "outputs": [
    {
     "name": "stdout",
     "output_type": "stream",
     "text": [
      "[[30000, 30099], [30101, 30199], [30201, 32000]]\n",
      "[[30101, 30199]]\n",
      "[[30000, 30099], [30101, 30199], [30201, 32000]]\n",
      "[[30000, 32000]]\n"
     ]
    }
   ],
   "source": [
    "def free_ports(min_port, max_port, busy):\n",
    "    result = []\n",
    "\n",
    "    if not busy or busy[-1] < min_port or busy[0] > max_port:\n",
    "        return [[min_port, max_port]]\n",
    "\n",
    "    busy.sort()\n",
    "\n",
    "    range_start = busy[0]\n",
    "    if range_start > min_port:\n",
    "        range_start = min_port\n",
    "\n",
    "    for port in busy:\n",
    "        if port - range_start > 0:\n",
    "            result.append([range_start, port - 1])\n",
    "        range_start = port + 1\n",
    "        if range_start < min_port:\n",
    "            range_start = min_port\n",
    "\n",
    "    if range_start < max_port:\n",
    "        result.append([range_start, max_port])\n",
    "\n",
    "    return result\n",
    "\n",
    "print(free_ports(30000, 32000, [30100, 30200]))\n",
    "print(free_ports(30100, 30200, [30100, 30200]))\n",
    "print(free_ports(30000, 32000, [100, 30100, 30200]))\n",
    "print(free_ports(30000, 32000, [32100]))"
   ]
  },
  {
   "cell_type": "markdown",
   "id": "f074b419",
   "metadata": {},
   "source": [
    "## Задачи"
   ]
  },
  {
   "cell_type": "markdown",
   "id": "c10eb475",
   "metadata": {},
   "source": [
    "### 1\n",
    "\n",
    "Есть функция, выводящая в консоль некоторое время, поо умолчанию - текущее:\n",
    "\n",
    "```python\n",
    "from datetime import datetime\n",
    "from time import sleep\n",
    " \n",
    " \n",
    "def time_now(msg, *, dt=datetime.now()):\n",
    "    print(msg, dt)\n",
    "```\n",
    "\n",
    "Какие есть проблемы и как их исправить?"
   ]
  },
  {
   "cell_type": "code",
   "execution_count": 84,
   "id": "01cb9a07",
   "metadata": {},
   "outputs": [
    {
     "name": "stdout",
     "output_type": "stream",
     "text": [
      "2023-05-28 11:38:16.519940\n"
     ]
    }
   ],
   "source": [
    "from datetime import datetime\n",
    "from time import sleep\n",
    " \n",
    " \n",
    "def time_now(*, dt=datetime.now()):\n",
    "    if dt is None:\n",
    "        dt = datetime.now()\n",
    "    return dt\n",
    "\n",
    "print(time_now())"
   ]
  },
  {
   "cell_type": "markdown",
   "id": "db5c7a78",
   "metadata": {},
   "source": [
    "### 2\n",
    "\n",
    "Напишите функцию Python, которая проверяет, является ли строка панграммой или нет. \n",
    "\n",
    "Панограммы - это предложения (слова), содержащие каждую букву алфавита хотя бы один раз. Можно использовать английскую панграмму"
   ]
  },
  {
   "cell_type": "markdown",
   "id": "fcb5098e",
   "metadata": {},
   "source": []
  },
  {
   "cell_type": "code",
   "execution_count": 101,
   "id": "4670c55e",
   "metadata": {},
   "outputs": [
    {
     "name": "stdout",
     "output_type": "stream",
     "text": [
      "This is pangram\n",
      "This is not pangram\n"
     ]
    }
   ],
   "source": [
    "def pangram(word):\n",
    "    for i in range (len(string.ascii_lowercase)):\n",
    "        if not (re.search(string.ascii_lowercase[i], word)):\n",
    "            std = \"This is not pangram\"\n",
    "            pass\n",
    "        else:\n",
    "            std = \"This is pangram\"\n",
    "    return std\n",
    "\n",
    "word = 'abcdefghaijklnopqjrstuvwxyz'\n",
    "print(pangram(word))\n",
    "\n",
    "word = 'lkjhgfdsaaaa'\n",
    "print(pangram(word))"
   ]
  }
 ],
 "metadata": {
  "kernelspec": {
   "display_name": "Python 3 (ipykernel)",
   "language": "python",
   "name": "python3"
  },
  "language_info": {
   "codemirror_mode": {
    "name": "ipython",
    "version": 3
   },
   "file_extension": ".py",
   "mimetype": "text/x-python",
   "name": "python",
   "nbconvert_exporter": "python",
   "pygments_lexer": "ipython3",
   "version": "3.10.9"
  }
 },
 "nbformat": 4,
 "nbformat_minor": 5
}
